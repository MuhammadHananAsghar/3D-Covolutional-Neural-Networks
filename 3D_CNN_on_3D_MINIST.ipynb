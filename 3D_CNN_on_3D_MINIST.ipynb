{
  "nbformat": 4,
  "nbformat_minor": 0,
  "metadata": {
    "colab": {
      "name": "3D CNN on 3D-MINIST.ipynb",
      "provenance": []
    },
    "kernelspec": {
      "name": "python3",
      "display_name": "Python 3"
    },
    "language_info": {
      "name": "python"
    },
    "accelerator": "GPU"
  },
  "cells": [
    {
      "cell_type": "code",
      "source": [
        "!nvidia-smi"
      ],
      "metadata": {
        "colab": {
          "base_uri": "https://localhost:8080/"
        },
        "id": "OpnDzcvANesJ",
        "outputId": "76b5bfd7-9979-472a-a90d-95c27d059067"
      },
      "execution_count": 2,
      "outputs": [
        {
          "output_type": "stream",
          "name": "stdout",
          "text": [
            "Tue Jun  7 03:29:41 2022       \n",
            "+-----------------------------------------------------------------------------+\n",
            "| NVIDIA-SMI 460.32.03    Driver Version: 460.32.03    CUDA Version: 11.2     |\n",
            "|-------------------------------+----------------------+----------------------+\n",
            "| GPU  Name        Persistence-M| Bus-Id        Disp.A | Volatile Uncorr. ECC |\n",
            "| Fan  Temp  Perf  Pwr:Usage/Cap|         Memory-Usage | GPU-Util  Compute M. |\n",
            "|                               |                      |               MIG M. |\n",
            "|===============================+======================+======================|\n",
            "|   0  Tesla T4            Off  | 00000000:00:04.0 Off |                    0 |\n",
            "| N/A   52C    P8    10W /  70W |      0MiB / 15109MiB |      0%      Default |\n",
            "|                               |                      |                  N/A |\n",
            "+-------------------------------+----------------------+----------------------+\n",
            "                                                                               \n",
            "+-----------------------------------------------------------------------------+\n",
            "| Processes:                                                                  |\n",
            "|  GPU   GI   CI        PID   Type   Process name                  GPU Memory |\n",
            "|        ID   ID                                                   Usage      |\n",
            "|=============================================================================|\n",
            "|  No running processes found                                                 |\n",
            "+-----------------------------------------------------------------------------+\n"
          ]
        }
      ]
    },
    {
      "cell_type": "markdown",
      "source": [
        "##Dataset"
      ],
      "metadata": {
        "id": "SnQo3dxTNtC5"
      }
    },
    {
      "cell_type": "code",
      "execution_count": 1,
      "metadata": {
        "id": "6PF90F_cMqlr"
      },
      "outputs": [],
      "source": [
        "! pip install -q kaggle\n",
        "! mkdir ~/.kaggle\n",
        "! cp kaggle.json ~/.kaggle/\n",
        "! chmod 600 ~/.kaggle/kaggle.json"
      ]
    },
    {
      "cell_type": "code",
      "source": [
        "!kaggle datasets download -d daavoo/3d-mnist"
      ],
      "metadata": {
        "colab": {
          "base_uri": "https://localhost:8080/"
        },
        "id": "uaz4NLWUNcqp",
        "outputId": "50d43bbf-1b95-40d0-8313-466e7760c66e"
      },
      "execution_count": 3,
      "outputs": [
        {
          "output_type": "stream",
          "name": "stdout",
          "text": [
            "Downloading 3d-mnist.zip to /content\n",
            " 99% 151M/153M [00:01<00:00, 117MB/s]\n",
            "100% 153M/153M [00:01<00:00, 117MB/s]\n"
          ]
        }
      ]
    },
    {
      "cell_type": "code",
      "source": [
        "!unzip *.zip && rm -rf *.zip"
      ],
      "metadata": {
        "colab": {
          "base_uri": "https://localhost:8080/"
        },
        "id": "VWwG3vKCNiKz",
        "outputId": "ddf6bb8f-7971-4d0a-9b39-f4362e24103b"
      },
      "execution_count": 4,
      "outputs": [
        {
          "output_type": "stream",
          "name": "stdout",
          "text": [
            "Archive:  3d-mnist.zip\n",
            "  inflating: full_dataset_vectors.h5  \n",
            "  inflating: plot3D.py               \n",
            "  inflating: test_point_clouds.h5    \n",
            "  inflating: train_point_clouds.h5   \n",
            "  inflating: voxelgrid.py            \n"
          ]
        }
      ]
    },
    {
      "cell_type": "markdown",
      "source": [
        "## Libraries"
      ],
      "metadata": {
        "id": "hQWx3JdVNqu0"
      }
    },
    {
      "cell_type": "code",
      "source": [
        "import h5py\n",
        "import numpy as np\n",
        "import tensorflow as tf\n",
        "import matplotlib.pyplot as plt\n",
        "from mpl_toolkits import mplot3d"
      ],
      "metadata": {
        "id": "UA5rEDRkNlCi"
      },
      "execution_count": 16,
      "outputs": []
    },
    {
      "cell_type": "code",
      "source": [
        "with h5py.File('full_dataset_vectors.h5', 'r') as dataset:\n",
        "  xtrain, xtest = dataset[\"X_train\"][:], dataset[\"X_test\"][:]\n",
        "  ytrain, ytest = dataset[\"y_train\"][:], dataset[\"y_test\"][:]\n"
      ],
      "metadata": {
        "id": "QwSRRuNkN_zG"
      },
      "execution_count": 7,
      "outputs": []
    },
    {
      "cell_type": "code",
      "source": [
        "xtrain = np.array(xtrain)\n",
        "xtest = np.array(xtest)\n",
        "ytest = np.array(ytest)\n",
        "ytrain = np.array(ytrain)"
      ],
      "metadata": {
        "id": "bzOzK2MqOVz-"
      },
      "execution_count": 9,
      "outputs": []
    },
    {
      "cell_type": "code",
      "source": [
        "print('train shape:', xtrain.shape)\n",
        "print(\"test shape:\", xtest.shape)"
      ],
      "metadata": {
        "colab": {
          "base_uri": "https://localhost:8080/"
        },
        "id": "o_uBNR8KOcYc",
        "outputId": "b4ef0827-b0d0-4cbe-df8a-68bfb9ede90f"
      },
      "execution_count": 13,
      "outputs": [
        {
          "output_type": "stream",
          "name": "stdout",
          "text": [
            "train shape: (10000, 4096)\n",
            "test shape: (2000, 4096)\n"
          ]
        }
      ]
    },
    {
      "cell_type": "code",
      "source": [
        "xtrain = xtrain.reshape(xtrain.shape[0], 16, 16, 16, 1)\n",
        "xtest = xtest.reshape(xtest.shape[0], 16, 16, 16, 1)"
      ],
      "metadata": {
        "id": "z8Z7AZwiOlke"
      },
      "execution_count": 14,
      "outputs": []
    },
    {
      "cell_type": "code",
      "source": [
        "print('train shape:', xtrain.shape)\n",
        "print(\"test shape:\", xtest.shape)"
      ],
      "metadata": {
        "colab": {
          "base_uri": "https://localhost:8080/"
        },
        "id": "GjoRZ5ogPCx0",
        "outputId": "b4e4706b-e95e-4660-814d-8896db257f5d"
      },
      "execution_count": 15,
      "outputs": [
        {
          "output_type": "stream",
          "name": "stdout",
          "text": [
            "train shape: (10000, 16, 16, 16, 1)\n",
            "test shape: (2000, 16, 16, 16, 1)\n"
          ]
        }
      ]
    },
    {
      "cell_type": "code",
      "source": [
        "ytrain, ytest = tf.keras.utils.to_categorical(ytrain, 10), tf.keras.utils.to_categorical(ytest, 10)"
      ],
      "metadata": {
        "id": "6K0f7Am4SGR2"
      },
      "execution_count": 33,
      "outputs": []
    },
    {
      "cell_type": "code",
      "source": [
        "ytrain"
      ],
      "metadata": {
        "colab": {
          "base_uri": "https://localhost:8080/"
        },
        "id": "Isli2bOeSLF0",
        "outputId": "46f97471-7c94-40b0-cfdf-35af28ea3cdb"
      },
      "execution_count": 34,
      "outputs": [
        {
          "output_type": "execute_result",
          "data": {
            "text/plain": [
              "array([[0., 0., 0., ..., 0., 0., 0.],\n",
              "       [0., 0., 0., ..., 0., 0., 0.],\n",
              "       [1., 0., 0., ..., 0., 0., 0.],\n",
              "       ...,\n",
              "       [0., 1., 0., ..., 0., 0., 0.],\n",
              "       [0., 0., 1., ..., 0., 0., 0.],\n",
              "       [0., 0., 1., ..., 0., 0., 0.]], dtype=float32)"
            ]
          },
          "metadata": {},
          "execution_count": 34
        }
      ]
    },
    {
      "cell_type": "markdown",
      "source": [
        "##Model"
      ],
      "metadata": {
        "id": "7sqLh1a3Qf9i"
      }
    },
    {
      "cell_type": "code",
      "source": [
        "model = tf.keras.models.Sequential()\n",
        "\n",
        "model.add(tf.keras.layers.Conv3D(32, (3, 3, 3), activation='relu', input_shape=(16, 16, 16, 1), bias_initializer=tf.keras.initializers.Constant(0.01)))\n",
        "model.add(tf.keras.layers.Conv3D(32, (3, 3, 3), activation='relu', bias_initializer=tf.keras.initializers.Constant(0.01)))\n",
        "model.add(tf.keras.layers.MaxPooling3D((2, 2, 2)))\n",
        "\n",
        "model.add(tf.keras.layers.Conv3D(64, (3, 3, 3), activation='relu'))\n",
        "model.add(tf.keras.layers.Conv3D(64, (3, 3, 3), activation='relu'))\n",
        "model.add(tf.keras.layers.MaxPooling3D((2, 2, 2)))\n",
        "\n",
        "model.add(tf.keras.layers.Dropout(0.6))\n",
        "model.add(tf.keras.layers.Flatten())\n",
        "\n",
        "model.add(tf.keras.layers.Dense(256, activation=\"relu\"))\n",
        "model.add(tf.keras.layers.Dropout(0.3))\n",
        "\n",
        "model.add(tf.keras.layers.Dense(128, activation=\"relu\"))\n",
        "model.add(tf.keras.layers.Dropout(0.3))\n",
        "\n",
        "model.add(tf.keras.layers.Dense(10, activation=\"softmax\"))"
      ],
      "metadata": {
        "id": "ZiruPJRXPdMK"
      },
      "execution_count": 25,
      "outputs": []
    },
    {
      "cell_type": "code",
      "source": [
        "model.summary()"
      ],
      "metadata": {
        "colab": {
          "base_uri": "https://localhost:8080/"
        },
        "id": "OUfaZsTDRpN2",
        "outputId": "0faca4fd-029b-4270-8f1d-086bd9203dae"
      },
      "execution_count": 26,
      "outputs": [
        {
          "output_type": "stream",
          "name": "stdout",
          "text": [
            "Model: \"sequential\"\n",
            "_________________________________________________________________\n",
            " Layer (type)                Output Shape              Param #   \n",
            "=================================================================\n",
            " conv3d (Conv3D)             (None, 14, 14, 14, 32)    896       \n",
            "                                                                 \n",
            " conv3d_1 (Conv3D)           (None, 12, 12, 12, 32)    27680     \n",
            "                                                                 \n",
            " max_pooling3d (MaxPooling3D  (None, 6, 6, 6, 32)      0         \n",
            " )                                                               \n",
            "                                                                 \n",
            " conv3d_2 (Conv3D)           (None, 4, 4, 4, 64)       55360     \n",
            "                                                                 \n",
            " conv3d_3 (Conv3D)           (None, 2, 2, 2, 64)       110656    \n",
            "                                                                 \n",
            " max_pooling3d_1 (MaxPooling  (None, 1, 1, 1, 64)      0         \n",
            " 3D)                                                             \n",
            "                                                                 \n",
            " dropout (Dropout)           (None, 1, 1, 1, 64)       0         \n",
            "                                                                 \n",
            " flatten (Flatten)           (None, 64)                0         \n",
            "                                                                 \n",
            " dense (Dense)               (None, 256)               16640     \n",
            "                                                                 \n",
            " dropout_1 (Dropout)         (None, 256)               0         \n",
            "                                                                 \n",
            " dense_1 (Dense)             (None, 128)               32896     \n",
            "                                                                 \n",
            " dropout_2 (Dropout)         (None, 128)               0         \n",
            "                                                                 \n",
            " dense_2 (Dense)             (None, 10)                1290      \n",
            "                                                                 \n",
            "=================================================================\n",
            "Total params: 245,418\n",
            "Trainable params: 245,418\n",
            "Non-trainable params: 0\n",
            "_________________________________________________________________\n"
          ]
        }
      ]
    },
    {
      "cell_type": "code",
      "source": [
        "model.compile(tf.keras.optimizers.Adam(0.001),'categorical_crossentropy',['accuracy'])"
      ],
      "metadata": {
        "id": "8J0_JIzeRpQ_"
      },
      "execution_count": 35,
      "outputs": []
    },
    {
      "cell_type": "code",
      "source": [
        "history = model.fit(\n",
        "    xtrain,\n",
        "    ytrain,\n",
        "    epochs=200,\n",
        "    batch_size=32,\n",
        "    verbose=1,\n",
        "    validation_data=(xtest,ytest),\n",
        "    callbacks=[tf.keras.callbacks.EarlyStopping(patience=15)]\n",
        ")"
      ],
      "metadata": {
        "colab": {
          "base_uri": "https://localhost:8080/"
        },
        "id": "qkhHDddHR02i",
        "outputId": "05b95f4d-24f4-4455-af3b-9aa6eb459b1d"
      },
      "execution_count": 36,
      "outputs": [
        {
          "output_type": "stream",
          "name": "stdout",
          "text": [
            "Epoch 1/200\n",
            "313/313 [==============================] - 15s 12ms/step - loss: 2.1302 - accuracy: 0.2069 - val_loss: 1.7436 - val_accuracy: 0.3740\n",
            "Epoch 2/200\n",
            "313/313 [==============================] - 3s 10ms/step - loss: 1.6478 - accuracy: 0.4064 - val_loss: 1.2845 - val_accuracy: 0.5665\n",
            "Epoch 3/200\n",
            "313/313 [==============================] - 3s 10ms/step - loss: 1.4197 - accuracy: 0.4918 - val_loss: 1.1226 - val_accuracy: 0.6145\n",
            "Epoch 4/200\n",
            "313/313 [==============================] - 3s 11ms/step - loss: 1.2978 - accuracy: 0.5412 - val_loss: 1.0790 - val_accuracy: 0.6190\n",
            "Epoch 5/200\n",
            "313/313 [==============================] - 3s 10ms/step - loss: 1.2308 - accuracy: 0.5661 - val_loss: 1.0420 - val_accuracy: 0.6385\n",
            "Epoch 6/200\n",
            "313/313 [==============================] - 3s 10ms/step - loss: 1.1797 - accuracy: 0.5800 - val_loss: 1.0611 - val_accuracy: 0.6185\n",
            "Epoch 7/200\n",
            "313/313 [==============================] - 3s 11ms/step - loss: 1.1426 - accuracy: 0.5937 - val_loss: 0.9842 - val_accuracy: 0.6440\n",
            "Epoch 8/200\n",
            "313/313 [==============================] - 3s 11ms/step - loss: 1.1040 - accuracy: 0.6053 - val_loss: 0.9907 - val_accuracy: 0.6395\n",
            "Epoch 9/200\n",
            "313/313 [==============================] - 3s 11ms/step - loss: 1.0834 - accuracy: 0.6100 - val_loss: 1.0304 - val_accuracy: 0.6350\n",
            "Epoch 10/200\n",
            "313/313 [==============================] - 3s 11ms/step - loss: 1.0540 - accuracy: 0.6251 - val_loss: 0.9457 - val_accuracy: 0.6665\n",
            "Epoch 11/200\n",
            "313/313 [==============================] - 3s 11ms/step - loss: 1.0293 - accuracy: 0.6305 - val_loss: 0.9713 - val_accuracy: 0.6620\n",
            "Epoch 12/200\n",
            "313/313 [==============================] - 3s 10ms/step - loss: 1.0040 - accuracy: 0.6418 - val_loss: 0.9482 - val_accuracy: 0.6720\n",
            "Epoch 13/200\n",
            "313/313 [==============================] - 3s 11ms/step - loss: 0.9900 - accuracy: 0.6446 - val_loss: 0.9225 - val_accuracy: 0.6715\n",
            "Epoch 14/200\n",
            "313/313 [==============================] - 3s 11ms/step - loss: 0.9658 - accuracy: 0.6506 - val_loss: 0.9725 - val_accuracy: 0.6580\n",
            "Epoch 15/200\n",
            "313/313 [==============================] - 3s 11ms/step - loss: 0.9462 - accuracy: 0.6598 - val_loss: 0.9180 - val_accuracy: 0.6710\n",
            "Epoch 16/200\n",
            "313/313 [==============================] - 3s 11ms/step - loss: 0.9393 - accuracy: 0.6628 - val_loss: 0.9276 - val_accuracy: 0.6775\n",
            "Epoch 17/200\n",
            "313/313 [==============================] - 3s 10ms/step - loss: 0.9173 - accuracy: 0.6707 - val_loss: 0.9234 - val_accuracy: 0.6855\n",
            "Epoch 18/200\n",
            "313/313 [==============================] - 3s 10ms/step - loss: 0.9160 - accuracy: 0.6729 - val_loss: 0.9178 - val_accuracy: 0.6715\n",
            "Epoch 19/200\n",
            "313/313 [==============================] - 3s 11ms/step - loss: 0.8958 - accuracy: 0.6753 - val_loss: 0.8950 - val_accuracy: 0.6890\n",
            "Epoch 20/200\n",
            "313/313 [==============================] - 3s 11ms/step - loss: 0.8880 - accuracy: 0.6797 - val_loss: 0.9009 - val_accuracy: 0.6830\n",
            "Epoch 21/200\n",
            "313/313 [==============================] - 3s 11ms/step - loss: 0.8662 - accuracy: 0.6878 - val_loss: 0.8707 - val_accuracy: 0.6880\n",
            "Epoch 22/200\n",
            "313/313 [==============================] - 3s 11ms/step - loss: 0.8390 - accuracy: 0.6965 - val_loss: 0.8754 - val_accuracy: 0.6900\n",
            "Epoch 23/200\n",
            "313/313 [==============================] - 3s 11ms/step - loss: 0.8264 - accuracy: 0.6976 - val_loss: 0.8775 - val_accuracy: 0.6890\n",
            "Epoch 24/200\n",
            "313/313 [==============================] - 3s 11ms/step - loss: 0.8215 - accuracy: 0.6989 - val_loss: 0.9002 - val_accuracy: 0.6805\n",
            "Epoch 25/200\n",
            "313/313 [==============================] - 3s 11ms/step - loss: 0.8160 - accuracy: 0.7025 - val_loss: 0.8838 - val_accuracy: 0.6940\n",
            "Epoch 26/200\n",
            "313/313 [==============================] - 3s 11ms/step - loss: 0.7766 - accuracy: 0.7181 - val_loss: 0.9272 - val_accuracy: 0.6720\n",
            "Epoch 27/200\n",
            "313/313 [==============================] - 3s 11ms/step - loss: 0.7916 - accuracy: 0.7111 - val_loss: 0.8965 - val_accuracy: 0.6895\n",
            "Epoch 28/200\n",
            "313/313 [==============================] - 3s 11ms/step - loss: 0.7624 - accuracy: 0.7228 - val_loss: 0.8780 - val_accuracy: 0.6950\n",
            "Epoch 29/200\n",
            "313/313 [==============================] - 3s 11ms/step - loss: 0.7781 - accuracy: 0.7214 - val_loss: 0.8859 - val_accuracy: 0.6930\n",
            "Epoch 30/200\n",
            "313/313 [==============================] - 3s 11ms/step - loss: 0.7432 - accuracy: 0.7294 - val_loss: 0.8879 - val_accuracy: 0.6975\n",
            "Epoch 31/200\n",
            "313/313 [==============================] - 3s 11ms/step - loss: 0.7348 - accuracy: 0.7322 - val_loss: 0.8809 - val_accuracy: 0.6900\n",
            "Epoch 32/200\n",
            "313/313 [==============================] - 3s 11ms/step - loss: 0.7378 - accuracy: 0.7290 - val_loss: 0.8682 - val_accuracy: 0.7020\n",
            "Epoch 33/200\n",
            "313/313 [==============================] - 3s 11ms/step - loss: 0.7298 - accuracy: 0.7363 - val_loss: 0.8830 - val_accuracy: 0.6900\n",
            "Epoch 34/200\n",
            "313/313 [==============================] - 3s 11ms/step - loss: 0.7073 - accuracy: 0.7461 - val_loss: 0.8647 - val_accuracy: 0.6980\n",
            "Epoch 35/200\n",
            "313/313 [==============================] - 3s 11ms/step - loss: 0.6968 - accuracy: 0.7463 - val_loss: 0.8748 - val_accuracy: 0.7000\n",
            "Epoch 36/200\n",
            "313/313 [==============================] - 3s 11ms/step - loss: 0.6789 - accuracy: 0.7503 - val_loss: 0.9049 - val_accuracy: 0.6895\n",
            "Epoch 37/200\n",
            "313/313 [==============================] - 3s 11ms/step - loss: 0.6982 - accuracy: 0.7479 - val_loss: 0.8940 - val_accuracy: 0.7045\n",
            "Epoch 38/200\n",
            "313/313 [==============================] - 3s 11ms/step - loss: 0.6655 - accuracy: 0.7571 - val_loss: 0.8775 - val_accuracy: 0.7090\n",
            "Epoch 39/200\n",
            "313/313 [==============================] - 3s 11ms/step - loss: 0.6802 - accuracy: 0.7554 - val_loss: 0.9064 - val_accuracy: 0.6935\n",
            "Epoch 40/200\n",
            "313/313 [==============================] - 3s 11ms/step - loss: 0.6433 - accuracy: 0.7683 - val_loss: 0.9128 - val_accuracy: 0.7015\n",
            "Epoch 41/200\n",
            "313/313 [==============================] - 3s 11ms/step - loss: 0.6490 - accuracy: 0.7667 - val_loss: 0.8816 - val_accuracy: 0.7000\n",
            "Epoch 42/200\n",
            "313/313 [==============================] - 3s 10ms/step - loss: 0.6305 - accuracy: 0.7734 - val_loss: 0.9118 - val_accuracy: 0.7020\n",
            "Epoch 43/200\n",
            "313/313 [==============================] - 3s 11ms/step - loss: 0.6338 - accuracy: 0.7686 - val_loss: 0.8880 - val_accuracy: 0.7090\n",
            "Epoch 44/200\n",
            "313/313 [==============================] - 3s 11ms/step - loss: 0.6201 - accuracy: 0.7756 - val_loss: 0.9197 - val_accuracy: 0.7070\n",
            "Epoch 45/200\n",
            "313/313 [==============================] - 3s 11ms/step - loss: 0.6225 - accuracy: 0.7773 - val_loss: 0.8858 - val_accuracy: 0.7055\n",
            "Epoch 46/200\n",
            "313/313 [==============================] - 3s 11ms/step - loss: 0.6003 - accuracy: 0.7804 - val_loss: 0.8703 - val_accuracy: 0.7080\n",
            "Epoch 47/200\n",
            "313/313 [==============================] - 3s 11ms/step - loss: 0.5887 - accuracy: 0.7856 - val_loss: 0.8942 - val_accuracy: 0.7055\n",
            "Epoch 48/200\n",
            "313/313 [==============================] - 3s 11ms/step - loss: 0.5839 - accuracy: 0.7889 - val_loss: 0.9127 - val_accuracy: 0.7015\n",
            "Epoch 49/200\n",
            "313/313 [==============================] - 3s 11ms/step - loss: 0.5906 - accuracy: 0.7883 - val_loss: 0.9250 - val_accuracy: 0.6965\n"
          ]
        }
      ]
    },
    {
      "cell_type": "code",
      "source": [
        "_, acc = model.evaluate(xtrain, ytrain)\n",
        "print('training accuracy:', str(round(acc*100, 2))+'%')\n",
        "_, acc = model.evaluate(xtest, ytest)\n",
        "print('testing accuracy:', str(round(acc*100, 2))+'%')"
      ],
      "metadata": {
        "colab": {
          "base_uri": "https://localhost:8080/"
        },
        "id": "tRH8b9f0R9nR",
        "outputId": "c24fa077-6c69-4b23-b53b-05beeb138af0"
      },
      "execution_count": 37,
      "outputs": [
        {
          "output_type": "stream",
          "name": "stdout",
          "text": [
            "313/313 [==============================] - 2s 5ms/step - loss: 0.3908 - accuracy: 0.8865\n",
            "training accuracy: 88.65%\n",
            "63/63 [==============================] - 0s 5ms/step - loss: 0.9250 - accuracy: 0.6965\n",
            "testing accuracy: 69.65%\n"
          ]
        }
      ]
    },
    {
      "cell_type": "code",
      "source": [
        "ytest[0]"
      ],
      "metadata": {
        "colab": {
          "base_uri": "https://localhost:8080/"
        },
        "id": "PF1BPY3xTFdl",
        "outputId": "a7843b76-6ff4-40eb-a6d3-e27a29bd29b9"
      },
      "execution_count": 38,
      "outputs": [
        {
          "output_type": "execute_result",
          "data": {
            "text/plain": [
              "array([0., 0., 0., 0., 0., 0., 0., 1., 0., 0.], dtype=float32)"
            ]
          },
          "metadata": {},
          "execution_count": 38
        }
      ]
    },
    {
      "cell_type": "code",
      "source": [
        "xtest[0].shape"
      ],
      "metadata": {
        "colab": {
          "base_uri": "https://localhost:8080/"
        },
        "id": "k7pbatDLUt1r",
        "outputId": "df8a1ce9-1717-41f8-938d-b4123b34bc4f"
      },
      "execution_count": 40,
      "outputs": [
        {
          "output_type": "execute_result",
          "data": {
            "text/plain": [
              "(16, 16, 16, 1)"
            ]
          },
          "metadata": {},
          "execution_count": 40
        }
      ]
    },
    {
      "cell_type": "code",
      "source": [
        "yhat = model.predict(tf.expand_dims(xtest[0], 0))"
      ],
      "metadata": {
        "id": "Aqa5eYgVUmRd"
      },
      "execution_count": 42,
      "outputs": []
    },
    {
      "cell_type": "code",
      "source": [
        "np.argmax(yhat), np.argmax(ytest[0])"
      ],
      "metadata": {
        "colab": {
          "base_uri": "https://localhost:8080/"
        },
        "id": "XuRSzZnEUqpy",
        "outputId": "782a30be-2c5f-4ad4-b169-1078004dc814"
      },
      "execution_count": 44,
      "outputs": [
        {
          "output_type": "execute_result",
          "data": {
            "text/plain": [
              "(7, 7)"
            ]
          },
          "metadata": {},
          "execution_count": 44
        }
      ]
    },
    {
      "cell_type": "markdown",
      "source": [
        "###Implemented by Muhammad Hanan Asghar"
      ],
      "metadata": {
        "id": "XpGL7nerU7-n"
      }
    }
  ]
}